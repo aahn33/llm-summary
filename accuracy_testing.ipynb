{
 "cells": [
  {
   "cell_type": "code",
   "execution_count": 2,
   "metadata": {},
   "outputs": [],
   "source": [
    "from rouge import Rouge"
   ]
  },
  {
   "cell_type": "markdown",
   "metadata": {},
   "source": [
    "# Calculate ROUGE Scores\n",
    "Given paths to the generated file and reference summary, write the summary ROUGE scores to an output file"
   ]
  },
  {
   "cell_type": "code",
   "execution_count": 27,
   "metadata": {},
   "outputs": [],
   "source": [
    "def calculate_rouge(title, generated_path, reference_path):\n",
    "    with open(generated_path, 'r', encoding='utf-8') as file:\n",
    "        generated = file.read()\n",
    "    \n",
    "    with open(reference_path, 'r', encoding='utf-8') as file:\n",
    "        reference = file.read()\n",
    "    rouge = Rouge()\n",
    "    scores = rouge.get_scores(generated, reference)[0]\n",
    "    score_file = open(\"rouge_scores/%s.txt\"%title, \"w\")\n",
    "    score_file.write(f\"ROUGE-1: Precision = {scores['rouge-1']['p']}, Recall = {scores['rouge-1']['r']}, F1 = {scores['rouge-1']['f']}\\n\")\n",
    "    score_file.write(f\"ROUGE-2: Precision = {scores['rouge-2']['p']}, Recall = {scores['rouge-2']['r']}, F1 = {scores['rouge-2']['f']}\\n\")\n",
    "    score_file.write(f\"ROUGE-L: Precision = {scores['rouge-l']['p']}, Recall = {scores['rouge-l']['r']}, F1 = {scores['rouge-l']['f']}\\n\")\n",
    "    score_file.close()"
   ]
  },
  {
   "cell_type": "code",
   "execution_count": 29,
   "metadata": {},
   "outputs": [],
   "source": [
    "OUTPUT_NAME = \"\"\n",
    "GENERATED_SUMMARY = \"\"\n",
    "REFERENCE_SUMMARY = \"\""
   ]
  },
  {
   "cell_type": "code",
   "execution_count": 28,
   "metadata": {},
   "outputs": [],
   "source": [
    "calculate_rouge(OUTPUT_NAME, GENERATED_SUMMARY, REFERENCE_SUMMARY)"
   ]
  }
 ],
 "metadata": {
  "kernelspec": {
   "display_name": "bigdata",
   "language": "python",
   "name": "python3"
  },
  "language_info": {
   "codemirror_mode": {
    "name": "ipython",
    "version": 3
   },
   "file_extension": ".py",
   "mimetype": "text/x-python",
   "name": "python",
   "nbconvert_exporter": "python",
   "pygments_lexer": "ipython3",
   "version": "3.12.0"
  }
 },
 "nbformat": 4,
 "nbformat_minor": 2
}
